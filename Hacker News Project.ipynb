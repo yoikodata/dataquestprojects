{
 "cells": [
  {
   "cell_type": "code",
   "execution_count": 1,
   "metadata": {},
   "outputs": [
    {
     "name": "stdout",
     "output_type": "stream",
     "text": [
      "[['id', 'title', 'url', 'num_points', 'num_comments', 'author', 'created_at'], ['12579008', 'You have two days to comment if you want stem cells to be classified as your own', 'http://www.regulations.gov/document?D=FDA-2015-D-3719-0018', '1', '0', 'altstar', '9/26/2016 3:26'], ['12579005', 'SQLAR  the SQLite Archiver', 'https://www.sqlite.org/sqlar/doc/trunk/README.md', '1', '0', 'blacksqr', '9/26/2016 3:24'], ['12578997', 'What if we just printed a flatscreen television on the side of our boxes?', 'https://medium.com/vanmoof/our-secrets-out-f21c1f03fdc8#.ietxmez43', '1', '0', 'pavel_lishin', '9/26/2016 3:19'], ['12578989', 'algorithmic music', 'http://cacm.acm.org/magazines/2011/7/109891-algorithmic-composition/fulltext', '1', '0', 'poindontcare', '9/26/2016 3:16']]\n"
     ]
    }
   ],
   "source": [
    "#Hacker News Project through Data Quest\n",
    "#Opened file and read as list\n",
    "\n",
    "opened_file = open('HN_posts_year_to_Sep_26_2016.csv', encoding=\"utf8\")\n",
    "from csv import reader\n",
    "read_file = reader(opened_file)\n",
    "hn = list(read_file)\n",
    "print(hn[:5])"
   ]
  },
  {
   "cell_type": "code",
   "execution_count": 2,
   "metadata": {},
   "outputs": [
    {
     "name": "stdout",
     "output_type": "stream",
     "text": [
      "['id', 'title', 'url', 'num_points', 'num_comments', 'author', 'created_at']\n",
      "\n",
      "\n",
      "[['12579008', 'You have two days to comment if you want stem cells to be classified as your own', 'http://www.regulations.gov/document?D=FDA-2015-D-3719-0018', '1', '0', 'altstar', '9/26/2016 3:26'], ['12579005', 'SQLAR  the SQLite Archiver', 'https://www.sqlite.org/sqlar/doc/trunk/README.md', '1', '0', 'blacksqr', '9/26/2016 3:24'], ['12578997', 'What if we just printed a flatscreen television on the side of our boxes?', 'https://medium.com/vanmoof/our-secrets-out-f21c1f03fdc8#.ietxmez43', '1', '0', 'pavel_lishin', '9/26/2016 3:19'], ['12578989', 'algorithmic music', 'http://cacm.acm.org/magazines/2011/7/109891-algorithmic-composition/fulltext', '1', '0', 'poindontcare', '9/26/2016 3:16'], ['12578979', 'How the Data Vault Enables the Next-Gen Data Warehouse and Data Lake', 'https://www.talend.com/blog/2016/05/12/talend-and-Â\\x93the-data-vaultÂ\\x94', '1', '0', 'markgainor1', '9/26/2016 3:14']]\n"
     ]
    }
   ],
   "source": [
    "#Separated header row from data\n",
    "\n",
    "headers = hn[0]\n",
    "hn = hn[1:]\n",
    "print(headers)\n",
    "print('\\n')\n",
    "print(hn[0:5])"
   ]
  },
  {
   "cell_type": "code",
   "execution_count": 3,
   "metadata": {},
   "outputs": [
    {
     "name": "stdout",
     "output_type": "stream",
     "text": [
      "Total Ask Hn Post: 9139\n",
      "Total Show Hn Post: 10158\n",
      "Total Other Hn Post: 282961\n",
      "[['12578908', 'Ask HN: What TLD do you use for local development?', '', '4', '7', 'Sevrene', '9/26/2016 2:53'], ['12578522', 'Ask HN: How do you pass on your work when you die?', '', '6', '3', 'PascLeRasc', '9/26/2016 1:17'], ['12577908', 'Ask HN: How a DNS problem can be limited to a geographic region?', '', '1', '0', 'kuon', '9/25/2016 22:57'], ['12577870', 'Ask HN: Why join a fund when you can be an angel?', '', '1', '3', 'anthony_james', '9/25/2016 22:48'], ['12577647', 'Ask HN: Someone uses stock trading as passive income?', '', '5', '2', '00taffe', '9/25/2016 21:50']]\n"
     ]
    }
   ],
   "source": [
    "#separating specific data, looking at post title starting with 'ask hn' and 'show hn'\n",
    "\n",
    "ask_post = []\n",
    "show_post = []\n",
    "other_post = []\n",
    "for row in hn:\n",
    "    title = row[1]\n",
    "    \n",
    "    if title.lower().startswith('ask hn'):\n",
    "        ask_post.append(row)\n",
    "    if title.lower().startswith('show hn'):\n",
    "        show_post.append(row)\n",
    "    else:\n",
    "        other_post.append(row)\n",
    "        \n",
    "print('Total Ask Hn Post:' , len(ask_post))\n",
    "print('Total Show Hn Post:' , len(show_post))\n",
    "print('Total Other Hn Post:' , len(other_post))\n",
    "print(ask_post[:5])"
   ]
  },
  {
   "cell_type": "code",
   "execution_count": 4,
   "metadata": {},
   "outputs": [
    {
     "name": "stdout",
     "output_type": "stream",
     "text": [
      "Total Ask Comments: 94986\n",
      "Average Ask Comments 10.393478498741656\n",
      "Total Show Comments: 49633\n",
      "Average Show Comments 4.886099625910612\n"
     ]
    }
   ],
   "source": [
    "#finding number of comments and average comments per post specifically for 'ask hn' posts and 'show hn' posts\n",
    "\n",
    "total_ask_comments = 0\n",
    "for row in ask_post:\n",
    "    num_comments = int(row[4])\n",
    "    total_ask_comments += num_comments\n",
    "    avg_ask_comments = total_ask_comments / len(ask_post)\n",
    "print('Total Ask Comments:' , total_ask_comments)\n",
    "print('Average Ask Comments', avg_ask_comments)\n",
    "\n",
    "total_show_comments = 0\n",
    "for row in show_post:\n",
    "    num_comments = int(row[4])\n",
    "    total_show_comments += num_comments\n",
    "    avg_show_comments = total_show_comments / len(show_post)\n",
    "print('Total Show Comments:' , total_show_comments)\n",
    "print('Average Show Comments', avg_show_comments)\n",
    "    \n",
    "#looks like 'Ask Hn' gets a little over twice as many comments as \"Show Hn\" posts. \"Ask Hn\" posts gets an average of 10.39 comments per post"
   ]
  },
  {
   "cell_type": "code",
   "execution_count": 5,
   "metadata": {},
   "outputs": [
    {
     "name": "stdout",
     "output_type": "stream",
     "text": [
      "{'02': 269, '01': 282, '22': 383, '21': 518, '19': 552, '17': 587, '15': 646, '14': 513, '13': 444, '11': 312, '10': 282, '09': 222, '07': 226, '03': 271, '23': 343, '20': 510, '16': 579, '08': 257, '00': 301, '18': 614, '12': 342, '04': 243, '06': 234, '05': 209}\n",
      "\n",
      "\n",
      "{'02': 2996, '01': 2089, '22': 3372, '21': 4500, '19': 3954, '17': 5547, '15': 18525, '14': 4972, '13': 7245, '11': 2797, '10': 3013, '09': 1477, '07': 1585, '03': 2154, '23': 2297, '20': 4462, '16': 4466, '08': 2362, '00': 2277, '18': 4877, '12': 4234, '04': 2360, '06': 1587, '05': 1838}\n"
     ]
    }
   ],
   "source": [
    "#converted dates to months using strptime/strftime and used them as keys in a dictionary to calculate total number of posts\n",
    "#and comments.\n",
    "\n",
    "import datetime as dt\n",
    "results_list = []\n",
    "for row in ask_post:\n",
    "    created_at = row[6]\n",
    "    num_comments = int(row[4])\n",
    "    results_list.append([created_at,num_comments])\n",
    "    \n",
    "counts_by_hours = {}\n",
    "comments_by_hours = {}\n",
    "date_format = \"%m/%d/%Y %H:%M\"\n",
    "for row in results_list:\n",
    "    entry_datetime = row[0]\n",
    "    num_comments = row[1]\n",
    "    hour = dt.datetime.strptime(entry_datetime , date_format).strftime(\"%H\")\n",
    "    \n",
    "    if hour not in counts_by_hours:\n",
    "        counts_by_hours[hour] = 1\n",
    "        comments_by_hours[hour] = num_comments\n",
    "    else:\n",
    "        counts_by_hours[hour] += 1\n",
    "        comments_by_hours[hour] += num_comments\n",
    "    \n",
    "print(counts_by_hours)\n",
    "print('\\n')\n",
    "print(comments_by_hours)\n",
    "\n",
    "    "
   ]
  },
  {
   "cell_type": "code",
   "execution_count": 8,
   "metadata": {},
   "outputs": [
    {
     "name": "stdout",
     "output_type": "stream",
     "text": [
      "\n",
      "\n",
      "Average comments per hour\n",
      "-------------------------\n",
      "02 : 11.14\n",
      "01 : 7.41\n",
      "22 : 8.8\n",
      "21 : 8.69\n",
      "19 : 7.16\n",
      "17 : 9.45\n",
      "15 : 28.68\n",
      "14 : 9.69\n",
      "13 : 16.32\n",
      "11 : 8.96\n",
      "10 : 10.68\n",
      "09 : 6.65\n",
      "07 : 7.01\n",
      "03 : 7.95\n",
      "23 : 6.7\n",
      "20 : 8.75\n",
      "16 : 7.71\n",
      "08 : 9.19\n",
      "00 : 7.56\n",
      "18 : 7.94\n",
      "12 : 12.38\n",
      "04 : 9.71\n",
      "06 : 6.78\n",
      "05 : 8.79\n"
     ]
    }
   ],
   "source": [
    "#finding average comments per post in each hour\n",
    "\n",
    "avg_by_hour = []\n",
    "for hour in comments_by_hours:\n",
    "    avg_by_hour.append([hour, comments_by_hours[hour] / counts_by_hours[hour]])\n",
    "\n",
    "print('\\n')\n",
    "print('Average comments per hour')\n",
    "print('-------------------------')\n",
    "for row in avg_by_hour:\n",
    "    hour = row[0]\n",
    "    avg = row[1]\n",
    "    print(hour, ':', round(avg, 2))"
   ]
  },
  {
   "cell_type": "code",
   "execution_count": 24,
   "metadata": {},
   "outputs": [
    {
     "name": "stdout",
     "output_type": "stream",
     "text": [
      "[[11.137546468401487, '02'], [7.407801418439717, '01'], [8.804177545691905, '22'], [8.687258687258687, '21'], [7.163043478260869, '19'], [9.449744463373083, '17'], [28.676470588235293, '15'], [9.692007797270955, '14'], [16.31756756756757, '13'], [8.96474358974359, '11'], [10.684397163120567, '10'], [6.653153153153153, '09'], [7.013274336283186, '07'], [7.948339483394834, '03'], [6.696793002915452, '23'], [8.749019607843136, '20'], [7.713298791018998, '16'], [9.190661478599221, '08'], [7.5647840531561465, '00'], [7.94299674267101, '18'], [12.380116959064328, '12'], [9.7119341563786, '04'], [6.782051282051282, '06'], [8.794258373205741, '05']]\n",
      "\n",
      "\n",
      "[[28.676470588235293, '15'], [16.31756756756757, '13'], [12.380116959064328, '12'], [11.137546468401487, '02'], [10.684397163120567, '10']]\n",
      "\n",
      "\n",
      "Top 5 Hours (Highest Comments per Post)\n",
      "--------------------------------------\n",
      "15:00 : 28.68\n",
      "13:00 : 16.32\n",
      "12:00 : 12.38\n",
      "02:00 : 11.14\n",
      "10:00 : 10.68\n"
     ]
    }
   ],
   "source": [
    "#find top 5 hours of the day when comments per post is highest\n",
    "#first swapping the elements in our list so that avg comments per hour comes first and then sorting\n",
    "#then formatting our datetime object and printing in a readable format\n",
    "\n",
    "swap_avg_by_hour = []\n",
    "for row in avg_by_hour:\n",
    "    hour = row[0]\n",
    "    avg_comment = row[1]\n",
    "    swap_avg_by_hour.append([avg_comment, hour])\n",
    "print(swap_avg_by_hour)\n",
    "\n",
    "sorted_swap = sorted(swap_avg_by_hour, reverse = True)\n",
    "print('\\n')\n",
    "print(sorted_swap[:5])\n",
    "print('\\n')\n",
    "\n",
    "print('Top 5 Hours (Highest Comments per Post)')\n",
    "print('--------------------------------------')\n",
    "time_format = '%H'\n",
    "for row in sorted_swap[0:5]:\n",
    "    avg_comments = row[0]\n",
    "    hour = row[1]\n",
    "    hour_formatted = dt.datetime.strptime(hour, time_format).strftime('%H:%M')\n",
    "    print(hour_formatted, ':', '{:.2f}'.format(avg_comments))"
   ]
  },
  {
   "cell_type": "code",
   "execution_count": null,
   "metadata": {},
   "outputs": [],
   "source": [
    "#Base on our results posts on Hacker Rank get the most comments per post at 3pm, 1pm, and noon in that order then 2am and 10am.\n",
    "#3pm is peak hour for comments per post by far\n",
    "#We can say comment traffic is highest in the early afternoon time especially between 3pm-4pm\n",
    "#It would be interesting to see what days of the week get the most comments per post\n"
   ]
  }
 ],
 "metadata": {
  "kernelspec": {
   "display_name": "Python 3",
   "language": "python",
   "name": "python3"
  },
  "language_info": {
   "codemirror_mode": {
    "name": "ipython",
    "version": 3
   },
   "file_extension": ".py",
   "mimetype": "text/x-python",
   "name": "python",
   "nbconvert_exporter": "python",
   "pygments_lexer": "ipython3",
   "version": "3.8.5"
  }
 },
 "nbformat": 4,
 "nbformat_minor": 4
}
